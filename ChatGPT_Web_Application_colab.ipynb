{
  "nbformat": 4,
  "nbformat_minor": 0,
  "metadata": {
    "colab": {
      "provenance": [],
      "authorship_tag": "ABX9TyM/+1LrDqKLxJvpbIuxethG",
      "include_colab_link": true
    },
    "kernelspec": {
      "name": "python3",
      "display_name": "Python 3"
    },
    "language_info": {
      "name": "python"
    }
  },
  "cells": [
    {
      "cell_type": "markdown",
      "metadata": {
        "id": "view-in-github",
        "colab_type": "text"
      },
      "source": [
        "<a href=\"https://colab.research.google.com/github/AmirMotefaker/ChatGPT-Web-Application/blob/main/ChatGPT_Web_Application_colab.ipynb\" target=\"_parent\"><img src=\"https://colab.research.google.com/assets/colab-badge.svg\" alt=\"Open In Colab\"/></a>"
      ]
    },
    {
      "cell_type": "markdown",
      "source": [
        "# Introduction\n",
        "\n",
        "- The ChatGPT(Generative Pre-trained Transformer) from [OpenAI](https://openai.com/) is one of the most potent chatbots. You can ask anything, and it will provide accurate responses. Additionally, OpenAI offers an API for use in programming. To start, in this project we’ll look at how to use the Python API to build a ChatGPT web app."
      ],
      "metadata": {
        "id": "T68R7jQztAqU"
      }
    }
  ]
}