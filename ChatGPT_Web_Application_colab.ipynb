{
  "nbformat": 4,
  "nbformat_minor": 0,
  "metadata": {
    "colab": {
      "provenance": [],
      "authorship_tag": "ABX9TyP7AWDuFLHv5ySrBfIj+CVj",
      "include_colab_link": true
    },
    "kernelspec": {
      "name": "python3",
      "display_name": "Python 3"
    },
    "language_info": {
      "name": "python"
    }
  },
  "cells": [
    {
      "cell_type": "markdown",
      "metadata": {
        "id": "view-in-github",
        "colab_type": "text"
      },
      "source": [
        "<a href=\"https://colab.research.google.com/github/AmirMotefaker/ChatGPT-Web-Application/blob/main/ChatGPT_Web_Application_colab.ipynb\" target=\"_parent\"><img src=\"https://colab.research.google.com/assets/colab-badge.svg\" alt=\"Open In Colab\"/></a>"
      ]
    },
    {
      "cell_type": "markdown",
      "source": [
        "# Introduction\n",
        "\n",
        "- The ChatGPT(Generative Pre-trained Transformer) from [OpenAI](https://openai.com/) is one of the most potent chatbots. You can ask anything, and it will provide accurate responses. Additionally, OpenAI offers an API for use in programming. To start, in this project we’ll look at how to use the Python API to build a ChatGPT web app.\n",
        "\n",
        "- ChatGPT, the general-purpose AI chatbot prototype that the internet is obsessed with right now, has taken the world by storm over the past few months. It’s quickly become the dominant example of the influence AI-generated content will have in the future, showing just how powerful these tools can be.\n",
        "\n",
        "# Do you need to download ChatGPT?\n",
        "\n",
        "- ChatGPT is [available via a webpage](https://openai.com/blog/chatgpt/), so no downloading is needed. OpenAI has yet to release an official app, despite the fact that app stores are full of fake versions. These should be installed and used with caution, as they are not official ChatGPT apps.\n",
        "\n",
        "- There are a couple of ways to install ChatGPT, though. First, you can navigate to the ChatGPT website and save it as a Windows app through Edge. Go to the site, click the ellipsis menu, and hover over Apps. Select Install this site as an app to load ChatGPT from your desktop.\n",
        "\n",
        "- You can also download the source code for ChatGPT from GitHub, but note this requires a bit of technical knowledge to get the app to work. For instance, [there’s a GPT-powered Discord bot](https://github.com/openai/gpt-discord-bot) available to install on your Discord server. Many users have leveraged the tech to build their own apps, such as the [MagicSlides extension for Google Sheets](https://www.digitaltrends.com/computing/chatgpt-tech-is-being-used-to-quickly-roll-out-google-slides/).\n",
        "\n",
        "# How to use ChatGPT\n",
        "\n",
        "- The ChatGPT webpage is simple and includes an area for the results to populate and a text box at the bottom of the page for users to type inquiries. We started with questions, however, OpenAI recommends inputting a statement for the best possible result.\n",
        "\n",
        "- For example, inputting “explain how the solar system was made” will give a more detailed result with more paragraphs than “how was the solar system made,” even though both inquiries will give fairly detailed results.\n",
        "\n",
        "- Several services have integrated ChatGPT into their apps, as well. [Snapchat recently announced My AI](https://www.theverge.com/2023/2/27/23614959/snapchat-my-ai-chatbot-chatgpt-openai-plus-subscription), which is an AI model build on ChatGPT that will be integrated directly into the Snapchat app, for example.\n",
        "\n",
        "# How to register an OpenAI account\n",
        "\n",
        "- Using the ChatGPT chatbot is fairly simple, as all you have to do is type in your text and receive the information. However, OpenAI does require an account before you can use any of its tools, so if you don’t have one, you will have to register. You have the option of choosing an easy login with a Google or Microsoft account.\n",
        "\n",
        "# 100 Best ChatGPT Prompts to Unleash AI’s Potential\n",
        "\n",
        "- In recent years, artificial intelligence (AI) has come to be seen as a powerful tool with the potential to transform many aspects of our lives. One area in which AI is beginning to have a significant impact is chatbots.\n",
        "\n",
        "- Chatbots are computer programs that simulate human conversation. They are commonly used to provide customer service or support, but they can also be used for other purposes such as marketing or even entertainment.\n",
        "\n",
        "- You can see 100 of the best ChatGPT prompts in detail by referring to this [link](https://mpost.io/100-best-chatgpt-prompts-to-unleash-ais-potential/).\n",
        "\n",
        "# Can ChatGPT be used for essay writing?\n",
        "\n",
        "- The use of ChatGPT has been full of controversy, with many onlookers considering how the power of AI will change everything from search engines to novel writing.\n",
        "\n",
        "- Essay writing for students is one of the most obvious examples of where ChatGPT could become a problem. ChatGPT might not write this article all that well, but it feels particularly easy to use for essay writing.\n",
        "\n",
        "- Teachers, [school administrators](https://www.zdnet.com/article/chatgpt-was-just-blocked-by-the-biggest-us-school-district-heres-why/), and [developers](https://www.wpr.org/college-student-created-app-can-tell-whether-ai-wrote-essay) are already finding different ways around this and [banning the use of ChatGPT in schools](https://www.washingtonpost.com/education/2023/01/05/nyc-schools-ban-chatgpt/). Others are more optimistic about how ChatGPT might be used for teaching, but plagiarism is undoubtedly going to continue being an issue in terms of education in the future. There are some ideas about how [ChatGPT could “watermark” its text](https://www.digitaltrends.com/computing/how-chatgpt-could-solve-its-plagiarism-problem/) and fix this plagiarism problem, but as of now, [detecting ChatGPT is still incredibly difficult to do](https://www.digitaltrends.com/computing/how-to-detect-chatgpt-plagiarism/).\n",
        "\n",
        "# Will ChatGPT replace Google?\n",
        "\n",
        "- Google has been attempting what ChatGPT can do now for decades, and the chatbot reportedly set off a “code red” within Google. In response, the company announced it would slowly roll out its rival [Google Bard](https://blog.google/technology/ai/bard-google-ai-search-updates/) AI, which will be integrated into a search over time. We expect more of these ChatGPT alternatives to pop up in the coming months, as we’ve already seen with services like [Jasper AI](https://www.jasper.ai/).\n",
        "\n",
        "# Streamlit\n",
        "\n",
        "- [Streamlit](https://streamlit.io/) is an open-source app framework ideally for Machine Learning and Data Science. It allows developers to create interactive, web-based applications for data visualization and analysis, without having to write extensive HTML, CSS, or JavaScript code. Streamlit uses Python to build the apps, making it easy for data scientists and engineers to use their existing knowledge and skills to create custom, interactive tools for data exploration and analysis. It is very easy to integrate Python code and even interactive Matplotlib-like graphs. A bit of pain in the back is the upload of data to be used for security reasons.\n",
        "\n",
        "- [Streamlit](https://github.com/streamlit/streamlit) — The fastest way to build data apps in Python\n",
        "\n",
        "- Streamlit lets you turn data scripts into shareable web apps in minutes, not weeks. It’s all Python, open-source, and free! And once you’ve created an app you can use our [Community Cloud platform](https://streamlit.io/cloud) to deploy, manage, and share your app.\n",
        "\n",
        "- There are 2 ways to use Streamlit, either within their own cloud or installed locally (in your computer or your own webserver):\n",
        "    - For the first option, you need to create an account on www.streamlit.io and from there link a GitHub repository. It is important to list the necessary libraries in the requirements.txt files otherwise the deployment will not succeed. If the plan is to use Streamlit Cloud with the OpenAI key, there might be further problems as the private key is posted on Github (OpenAI will immediately detect this and complain, in this case, better to use the “secrets” settings within Streamlit).\n",
        "    \n",
        "    - The second solution requires own resources but it gives more freedom. You have to install those libraries in the defined machine:\n",
        "\n",
        "        - Streamlit ( pip install streamlit )\n",
        "        - Streamlit Chat ( pip install streamlit_chat)\n",
        "        - Open AI(pip install openai)\n",
        "        - Dotenv(pip install python-dotenv ) (optional)\n",
        "        \n",
        "      \n",
        " # OpenAI API Key\n",
        " \n",
        " - To use the Chat GPT-3 you will need the API key. To get this you will have to go to [OpenAI](https://beta.openai.com/overview)’s website. After login, go to View API Keys."
      ],
      "metadata": {
        "id": "T68R7jQztAqU"
      }
    }
  ]
}