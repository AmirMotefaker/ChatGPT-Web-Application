{
  "nbformat": 4,
  "nbformat_minor": 0,
  "metadata": {
    "colab": {
      "provenance": [],
      "authorship_tag": "ABX9TyODyQ1ssNSESwl4xMC/GhRj",
      "include_colab_link": true
    },
    "kernelspec": {
      "name": "python3",
      "display_name": "Python 3"
    },
    "language_info": {
      "name": "python"
    }
  },
  "cells": [
    {
      "cell_type": "markdown",
      "metadata": {
        "id": "view-in-github",
        "colab_type": "text"
      },
      "source": [
        "<a href=\"https://colab.research.google.com/github/AmirMotefaker/ChatGPT-Web-Application/blob/main/ChatGPT_Web_Application_colab.ipynb\" target=\"_parent\"><img src=\"https://colab.research.google.com/assets/colab-badge.svg\" alt=\"Open In Colab\"/></a>"
      ]
    },
    {
      "cell_type": "markdown",
      "source": [
        "# Introduction\n",
        "\n",
        "- The ChatGPT(Generative Pre-trained Transformer) from [OpenAI](https://openai.com/) is one of the most potent chatbots. You can ask anything, and it will provide accurate responses. Additionally, OpenAI offers an API for use in programming. To start, in this project we’ll look at how to use the Python API to build a ChatGPT web app.\n",
        "\n",
        "- ChatGPT, the general-purpose AI chatbot prototype that the internet is obsessed with right now, has taken the world by storm over the past few months. It’s quickly become the dominant example of the influence AI-generated content will have in the future, showing just how powerful these tools can be.\n",
        "\n",
        "# Do you need to download ChatGPT?\n",
        "\n",
        "- ChatGPT is [available via a webpage](https://openai.com/blog/chatgpt/), so no downloading is needed. OpenAI has yet to release an official app, despite the fact that app stores are full of fake versions. These should be installed and used with caution, as they are not official ChatGPT apps.\n",
        "\n",
        "- There are a couple of ways to install ChatGPT, though. First, you can navigate to the ChatGPT website and save it as a Windows app through Edge. Go to the site, click the ellipsis menu, and hover over Apps. Select Install this site as an app to load ChatGPT from your desktop.\n",
        "\n",
        "- You can also download the source code for ChatGPT from GitHub, but note this requires a bit of technical knowledge to get the app to work. For instance, [there’s a GPT-powered Discord bot](https://github.com/openai/gpt-discord-bot) available to install on your Discord server. Many users have leveraged the tech to build their own apps, such as the [MagicSlides extension for Google Sheets](https://www.digitaltrends.com/computing/chatgpt-tech-is-being-used-to-quickly-roll-out-google-slides/).\n",
        "\n",
        "# How to use ChatGPT\n",
        "\n",
        "- The ChatGPT webpage is simple and includes an area for the results to populate and a text box at the bottom of the page for users to type inquiries. We started with questions, however, OpenAI recommends inputting a statement for the best possible result.\n",
        "\n",
        "- For example, inputting “explain how the solar system was made” will give a more detailed result with more paragraphs than “how was the solar system made,” even though both inquiries will give fairly detailed results.\n",
        "\n",
        "- Several services have integrated ChatGPT into their apps, as well. [Snapchat recently announced My AI](https://www.theverge.com/2023/2/27/23614959/snapchat-my-ai-chatbot-chatgpt-openai-plus-subscription), which is an AI model build on ChatGPT that will be integrated directly into the Snapchat app, for example.\n",
        "\n",
        "# How to register an OpenAI account\n",
        "\n",
        "- Using the ChatGPT chatbot is fairly simple, as all you have to do is type in your text and receive the information. However, OpenAI does require an account before you can use any of its tools, so if you don’t have one, you will have to register. You have the option of choosing an easy login with a Google or Microsoft account.\n",
        "\n",
        "# 100 Best ChatGPT Prompts to Unleash AI’s Potential\n",
        "\n",
        "- In recent years, artificial intelligence (AI) has come to be seen as a powerful tool with the potential to transform many aspects of our lives. One area in which AI is beginning to have a significant impact is chatbots.\n",
        "\n",
        "- Chatbots are computer programs that simulate human conversation. They are commonly used to provide customer service or support, but they can also be used for other purposes such as marketing or even entertainment.\n",
        "\n",
        "- You can see 100 of the best ChatGPT prompts in detail by referring to this [link](https://mpost.io/100-best-chatgpt-prompts-to-unleash-ais-potential/).\n",
        "\n",
        "# Can ChatGPT be used for essay writing?\n",
        "\n",
        "- The use of ChatGPT has been full of controversy, with many onlookers considering how the power of AI will change everything from search engines to novel writing.\n",
        "\n",
        "- Essay writing for students is one of the most obvious examples of where ChatGPT could become a problem. ChatGPT might not write this article all that well, but it feels particularly easy to use for essay writing.\n",
        "\n",
        "- Teachers, [school administrators](https://www.zdnet.com/article/chatgpt-was-just-blocked-by-the-biggest-us-school-district-heres-why/), and [developers](https://www.wpr.org/college-student-created-app-can-tell-whether-ai-wrote-essay) are already finding different ways around this and [banning the use of ChatGPT in schools](https://www.washingtonpost.com/education/2023/01/05/nyc-schools-ban-chatgpt/). Others are more optimistic about how ChatGPT might be used for teaching, but plagiarism is undoubtedly going to continue being an issue in terms of education in the future. There are some ideas about how [ChatGPT could “watermark” its text](https://www.digitaltrends.com/computing/how-chatgpt-could-solve-its-plagiarism-problem/) and fix this plagiarism problem, but as of now, [detecting ChatGPT is still incredibly difficult to do](https://www.digitaltrends.com/computing/how-to-detect-chatgpt-plagiarism/).\n",
        "\n",
        "# Will ChatGPT replace Google?\n",
        "\n",
        "- Google has been attempting what ChatGPT can do now for decades, and the chatbot reportedly set off a “code red” within Google. In response, the company announced it would slowly roll out its rival [Google Bard](https://blog.google/technology/ai/bard-google-ai-search-updates/) AI, which will be integrated into a search over time. We expect more of these ChatGPT alternatives to pop up in the coming months, as we’ve already seen with services like [Jasper AI](https://www.jasper.ai/).\n",
        "\n",
        "# Streamlit\n",
        "\n",
        "- [Streamlit](https://streamlit.io/) is an open-source app framework ideally for Machine Learning and Data Science. It allows developers to create interactive, web-based applications for data visualization and analysis, without having to write extensive HTML, CSS, or JavaScript code. Streamlit uses Python to build the apps, making it easy for data scientists and engineers to use their existing knowledge and skills to create custom, interactive tools for data exploration and analysis. It is very easy to integrate Python code and even interactive Matplotlib-like graphs. A bit of pain in the back is the upload of data to be used for security reasons.\n",
        "\n",
        "- [Streamlit](https://github.com/streamlit/streamlit) — The fastest way to build data apps in Python\n",
        "\n",
        "- Streamlit lets you turn data scripts into shareable web apps in minutes, not weeks. It’s all Python, open-source, and free! And once you’ve created an app you can use our [Community Cloud platform](https://streamlit.io/cloud) to deploy, manage, and share your app.\n",
        "\n",
        "- There are 2 ways to use Streamlit, either within their own cloud or installed locally (in your computer or your own webserver):\n",
        "    - For the first option, you need to create an account on www.streamlit.io and from there link a GitHub repository. It is important to list the necessary libraries in the requirements.txt files otherwise the deployment will not succeed. If the plan is to use Streamlit Cloud with the OpenAI key, there might be further problems as the private key is posted on Github (OpenAI will immediately detect this and complain, in this case, better to use the “secrets” settings within Streamlit).\n",
        "    \n",
        "    - The second solution requires own resources but it gives more freedom. You have to install those libraries in the defined machine:\n",
        "\n",
        "        - Streamlit ( pip install streamlit )\n",
        "        - Streamlit Chat ( pip install streamlit_chat)\n",
        "        - Open AI(pip install openai)\n",
        "        - Dotenv(pip install python-dotenv ) (optional)\n",
        "        \n",
        "      \n",
        " # OpenAI API Key\n",
        " \n",
        " - To use the Chat GPT-3 you will need the API key. To get this you will have to go to [OpenAI](https://beta.openai.com/overview)’s website. After login, go to View API Keys.\n",
        " \n",
        " - To set up the OpenAI API client, you can take help from [my notebook](https://www.kaggle.com/code/amirmotefaker/create-your-own-chatgpt) written on this topic."
      ],
      "metadata": {
        "id": "T68R7jQztAqU"
      }
    },
    {
      "cell_type": "markdown",
      "source": [
        "# Create a Streamlit Python script\n",
        "\n",
        "- After importing the required libraries, paste the API key stored in the openai.api_key. Then generate the response from GPT-3 generate_response by taking the user prompt as a parameter. Here is also specified the GPT-3 model 'text-davinci-003' , though other models can be used. It is also possible to set a limit to the prompt (max_tokens).\n",
        "\n",
        "- The temperature variable is very relevant, as it defines substantially the amount of creativity in the response (though nobody likes to oversimplify creativity with this), it can be set between 0 and 1. 0 produces stable outputs, while 1 is highly creative. More formally, the temperature determines how greedy the generative model is."
      ],
      "metadata": {
        "id": "dNGhCjVVqGpl"
      }
    },
    {
      "cell_type": "markdown",
      "source": [
        "# Import Libraries"
      ],
      "metadata": {
        "id": "a_Qa3UA_txyI"
      }
    },
    {
      "cell_type": "code",
      "source": [
        "!pip install streamlit\n",
        "!pip install streamlit_chat\n",
        "!pip install openai\n"
      ],
      "metadata": {
        "colab": {
          "base_uri": "https://localhost:8080/"
        },
        "id": "0N5txP1EtziV",
        "outputId": "ae0c44ef-d24c-4afa-ea46-f45e12ab2459"
      },
      "execution_count": 1,
      "outputs": [
        {
          "output_type": "stream",
          "name": "stdout",
          "text": [
            "Looking in indexes: https://pypi.org/simple, https://us-python.pkg.dev/colab-wheels/public/simple/\n",
            "Requirement already satisfied: streamlit in /usr/local/lib/python3.8/dist-packages (1.19.0)\n",
            "Requirement already satisfied: watchdog in /usr/local/lib/python3.8/dist-packages (from streamlit) (2.3.1)\n",
            "Requirement already satisfied: rich>=10.11.0 in /usr/local/lib/python3.8/dist-packages (from streamlit) (13.3.1)\n",
            "Requirement already satisfied: tzlocal>=1.1 in /usr/local/lib/python3.8/dist-packages (from streamlit) (1.5.1)\n",
            "Requirement already satisfied: pandas>=0.25 in /usr/local/lib/python3.8/dist-packages (from streamlit) (1.3.5)\n",
            "Requirement already satisfied: typing-extensions>=3.10.0.0 in /usr/local/lib/python3.8/dist-packages (from streamlit) (4.5.0)\n",
            "Requirement already satisfied: packaging>=14.1 in /usr/local/lib/python3.8/dist-packages (from streamlit) (23.0)\n",
            "Requirement already satisfied: pydeck>=0.1.dev5 in /usr/local/lib/python3.8/dist-packages (from streamlit) (0.8.0)\n",
            "Requirement already satisfied: python-dateutil in /usr/local/lib/python3.8/dist-packages (from streamlit) (2.8.2)\n",
            "Requirement already satisfied: pillow>=6.2.0 in /usr/local/lib/python3.8/dist-packages (from streamlit) (8.4.0)\n",
            "Requirement already satisfied: requests>=2.4 in /usr/local/lib/python3.8/dist-packages (from streamlit) (2.25.1)\n",
            "Requirement already satisfied: semver in /usr/local/lib/python3.8/dist-packages (from streamlit) (2.13.0)\n",
            "Requirement already satisfied: validators>=0.2 in /usr/local/lib/python3.8/dist-packages (from streamlit) (0.20.0)\n",
            "Requirement already satisfied: importlib-metadata>=1.4 in /usr/local/lib/python3.8/dist-packages (from streamlit) (6.0.0)\n",
            "Requirement already satisfied: blinker>=1.0.0 in /usr/local/lib/python3.8/dist-packages (from streamlit) (1.5)\n",
            "Requirement already satisfied: click>=7.0 in /usr/local/lib/python3.8/dist-packages (from streamlit) (8.1.3)\n",
            "Requirement already satisfied: tornado>=6.0.3 in /usr/local/lib/python3.8/dist-packages (from streamlit) (6.2)\n",
            "Requirement already satisfied: cachetools>=4.0 in /usr/local/lib/python3.8/dist-packages (from streamlit) (5.3.0)\n",
            "Requirement already satisfied: gitpython!=3.1.19 in /usr/local/lib/python3.8/dist-packages (from streamlit) (3.1.31)\n",
            "Requirement already satisfied: protobuf<4,>=3.12 in /usr/local/lib/python3.8/dist-packages (from streamlit) (3.19.6)\n",
            "Requirement already satisfied: numpy in /usr/local/lib/python3.8/dist-packages (from streamlit) (1.22.4)\n",
            "Requirement already satisfied: altair>=3.2.0 in /usr/local/lib/python3.8/dist-packages (from streamlit) (4.2.2)\n",
            "Requirement already satisfied: toml in /usr/local/lib/python3.8/dist-packages (from streamlit) (0.10.2)\n",
            "Requirement already satisfied: pympler>=0.9 in /usr/local/lib/python3.8/dist-packages (from streamlit) (1.0.1)\n",
            "Requirement already satisfied: pyarrow>=4.0 in /usr/local/lib/python3.8/dist-packages (from streamlit) (9.0.0)\n",
            "Requirement already satisfied: entrypoints in /usr/local/lib/python3.8/dist-packages (from altair>=3.2.0->streamlit) (0.4)\n",
            "Requirement already satisfied: jsonschema>=3.0 in /usr/local/lib/python3.8/dist-packages (from altair>=3.2.0->streamlit) (4.3.3)\n",
            "Requirement already satisfied: jinja2 in /usr/local/lib/python3.8/dist-packages (from altair>=3.2.0->streamlit) (3.1.2)\n",
            "Requirement already satisfied: toolz in /usr/local/lib/python3.8/dist-packages (from altair>=3.2.0->streamlit) (0.12.0)\n",
            "Requirement already satisfied: gitdb<5,>=4.0.1 in /usr/local/lib/python3.8/dist-packages (from gitpython!=3.1.19->streamlit) (4.0.10)\n",
            "Requirement already satisfied: zipp>=0.5 in /usr/local/lib/python3.8/dist-packages (from importlib-metadata>=1.4->streamlit) (3.15.0)\n",
            "Requirement already satisfied: pytz>=2017.3 in /usr/local/lib/python3.8/dist-packages (from pandas>=0.25->streamlit) (2022.7.1)\n",
            "Requirement already satisfied: six>=1.5 in /usr/local/lib/python3.8/dist-packages (from python-dateutil->streamlit) (1.15.0)\n",
            "Requirement already satisfied: urllib3<1.27,>=1.21.1 in /usr/local/lib/python3.8/dist-packages (from requests>=2.4->streamlit) (1.26.14)\n",
            "Requirement already satisfied: chardet<5,>=3.0.2 in /usr/local/lib/python3.8/dist-packages (from requests>=2.4->streamlit) (4.0.0)\n",
            "Requirement already satisfied: idna<3,>=2.5 in /usr/local/lib/python3.8/dist-packages (from requests>=2.4->streamlit) (2.10)\n",
            "Requirement already satisfied: certifi>=2017.4.17 in /usr/local/lib/python3.8/dist-packages (from requests>=2.4->streamlit) (2022.12.7)\n",
            "Requirement already satisfied: markdown-it-py<3.0.0,>=2.1.0 in /usr/local/lib/python3.8/dist-packages (from rich>=10.11.0->streamlit) (2.2.0)\n",
            "Requirement already satisfied: pygments<3.0.0,>=2.14.0 in /usr/local/lib/python3.8/dist-packages (from rich>=10.11.0->streamlit) (2.14.0)\n",
            "Requirement already satisfied: decorator>=3.4.0 in /usr/local/lib/python3.8/dist-packages (from validators>=0.2->streamlit) (4.4.2)\n",
            "Requirement already satisfied: smmap<6,>=3.0.1 in /usr/local/lib/python3.8/dist-packages (from gitdb<5,>=4.0.1->gitpython!=3.1.19->streamlit) (5.0.0)\n",
            "Requirement already satisfied: MarkupSafe>=2.0 in /usr/local/lib/python3.8/dist-packages (from jinja2->altair>=3.2.0->streamlit) (2.1.2)\n",
            "Requirement already satisfied: importlib-resources>=1.4.0 in /usr/local/lib/python3.8/dist-packages (from jsonschema>=3.0->altair>=3.2.0->streamlit) (5.12.0)\n",
            "Requirement already satisfied: pyrsistent!=0.17.0,!=0.17.1,!=0.17.2,>=0.14.0 in /usr/local/lib/python3.8/dist-packages (from jsonschema>=3.0->altair>=3.2.0->streamlit) (0.19.3)\n",
            "Requirement already satisfied: attrs>=17.4.0 in /usr/local/lib/python3.8/dist-packages (from jsonschema>=3.0->altair>=3.2.0->streamlit) (22.2.0)\n",
            "Requirement already satisfied: mdurl~=0.1 in /usr/local/lib/python3.8/dist-packages (from markdown-it-py<3.0.0,>=2.1.0->rich>=10.11.0->streamlit) (0.1.2)\n",
            "Looking in indexes: https://pypi.org/simple, https://us-python.pkg.dev/colab-wheels/public/simple/\n",
            "Requirement already satisfied: streamlit_chat in /usr/local/lib/python3.8/dist-packages (0.0.2.1)\n",
            "Requirement already satisfied: streamlit>=0.63 in /usr/local/lib/python3.8/dist-packages (from streamlit_chat) (1.19.0)\n",
            "Requirement already satisfied: protobuf<4,>=3.12 in /usr/local/lib/python3.8/dist-packages (from streamlit>=0.63->streamlit_chat) (3.19.6)\n",
            "Requirement already satisfied: typing-extensions>=3.10.0.0 in /usr/local/lib/python3.8/dist-packages (from streamlit>=0.63->streamlit_chat) (4.5.0)\n",
            "Requirement already satisfied: pydeck>=0.1.dev5 in /usr/local/lib/python3.8/dist-packages (from streamlit>=0.63->streamlit_chat) (0.8.0)\n",
            "Requirement already satisfied: packaging>=14.1 in /usr/local/lib/python3.8/dist-packages (from streamlit>=0.63->streamlit_chat) (23.0)\n",
            "Requirement already satisfied: pyarrow>=4.0 in /usr/local/lib/python3.8/dist-packages (from streamlit>=0.63->streamlit_chat) (9.0.0)\n",
            "Requirement already satisfied: pandas>=0.25 in /usr/local/lib/python3.8/dist-packages (from streamlit>=0.63->streamlit_chat) (1.3.5)\n",
            "Requirement already satisfied: rich>=10.11.0 in /usr/local/lib/python3.8/dist-packages (from streamlit>=0.63->streamlit_chat) (13.3.1)\n",
            "Requirement already satisfied: toml in /usr/local/lib/python3.8/dist-packages (from streamlit>=0.63->streamlit_chat) (0.10.2)\n",
            "Requirement already satisfied: cachetools>=4.0 in /usr/local/lib/python3.8/dist-packages (from streamlit>=0.63->streamlit_chat) (5.3.0)\n",
            "Requirement already satisfied: numpy in /usr/local/lib/python3.8/dist-packages (from streamlit>=0.63->streamlit_chat) (1.22.4)\n",
            "Requirement already satisfied: tzlocal>=1.1 in /usr/local/lib/python3.8/dist-packages (from streamlit>=0.63->streamlit_chat) (1.5.1)\n",
            "Requirement already satisfied: watchdog in /usr/local/lib/python3.8/dist-packages (from streamlit>=0.63->streamlit_chat) (2.3.1)\n",
            "Requirement already satisfied: python-dateutil in /usr/local/lib/python3.8/dist-packages (from streamlit>=0.63->streamlit_chat) (2.8.2)\n",
            "Requirement already satisfied: gitpython!=3.1.19 in /usr/local/lib/python3.8/dist-packages (from streamlit>=0.63->streamlit_chat) (3.1.31)\n",
            "Requirement already satisfied: pympler>=0.9 in /usr/local/lib/python3.8/dist-packages (from streamlit>=0.63->streamlit_chat) (1.0.1)\n",
            "Requirement already satisfied: click>=7.0 in /usr/local/lib/python3.8/dist-packages (from streamlit>=0.63->streamlit_chat) (8.1.3)\n",
            "Requirement already satisfied: altair>=3.2.0 in /usr/local/lib/python3.8/dist-packages (from streamlit>=0.63->streamlit_chat) (4.2.2)\n",
            "Requirement already satisfied: tornado>=6.0.3 in /usr/local/lib/python3.8/dist-packages (from streamlit>=0.63->streamlit_chat) (6.2)\n",
            "Requirement already satisfied: requests>=2.4 in /usr/local/lib/python3.8/dist-packages (from streamlit>=0.63->streamlit_chat) (2.25.1)\n",
            "Requirement already satisfied: blinker>=1.0.0 in /usr/local/lib/python3.8/dist-packages (from streamlit>=0.63->streamlit_chat) (1.5)\n",
            "Requirement already satisfied: semver in /usr/local/lib/python3.8/dist-packages (from streamlit>=0.63->streamlit_chat) (2.13.0)\n",
            "Requirement already satisfied: validators>=0.2 in /usr/local/lib/python3.8/dist-packages (from streamlit>=0.63->streamlit_chat) (0.20.0)\n",
            "Requirement already satisfied: importlib-metadata>=1.4 in /usr/local/lib/python3.8/dist-packages (from streamlit>=0.63->streamlit_chat) (6.0.0)\n",
            "Requirement already satisfied: pillow>=6.2.0 in /usr/local/lib/python3.8/dist-packages (from streamlit>=0.63->streamlit_chat) (8.4.0)\n",
            "Requirement already satisfied: jinja2 in /usr/local/lib/python3.8/dist-packages (from altair>=3.2.0->streamlit>=0.63->streamlit_chat) (3.1.2)\n",
            "Requirement already satisfied: entrypoints in /usr/local/lib/python3.8/dist-packages (from altair>=3.2.0->streamlit>=0.63->streamlit_chat) (0.4)\n",
            "Requirement already satisfied: toolz in /usr/local/lib/python3.8/dist-packages (from altair>=3.2.0->streamlit>=0.63->streamlit_chat) (0.12.0)\n",
            "Requirement already satisfied: jsonschema>=3.0 in /usr/local/lib/python3.8/dist-packages (from altair>=3.2.0->streamlit>=0.63->streamlit_chat) (4.3.3)\n",
            "Requirement already satisfied: gitdb<5,>=4.0.1 in /usr/local/lib/python3.8/dist-packages (from gitpython!=3.1.19->streamlit>=0.63->streamlit_chat) (4.0.10)\n",
            "Requirement already satisfied: zipp>=0.5 in /usr/local/lib/python3.8/dist-packages (from importlib-metadata>=1.4->streamlit>=0.63->streamlit_chat) (3.15.0)\n",
            "Requirement already satisfied: pytz>=2017.3 in /usr/local/lib/python3.8/dist-packages (from pandas>=0.25->streamlit>=0.63->streamlit_chat) (2022.7.1)\n",
            "Requirement already satisfied: six>=1.5 in /usr/local/lib/python3.8/dist-packages (from python-dateutil->streamlit>=0.63->streamlit_chat) (1.15.0)\n",
            "Requirement already satisfied: idna<3,>=2.5 in /usr/local/lib/python3.8/dist-packages (from requests>=2.4->streamlit>=0.63->streamlit_chat) (2.10)\n",
            "Requirement already satisfied: certifi>=2017.4.17 in /usr/local/lib/python3.8/dist-packages (from requests>=2.4->streamlit>=0.63->streamlit_chat) (2022.12.7)\n",
            "Requirement already satisfied: urllib3<1.27,>=1.21.1 in /usr/local/lib/python3.8/dist-packages (from requests>=2.4->streamlit>=0.63->streamlit_chat) (1.26.14)\n",
            "Requirement already satisfied: chardet<5,>=3.0.2 in /usr/local/lib/python3.8/dist-packages (from requests>=2.4->streamlit>=0.63->streamlit_chat) (4.0.0)\n",
            "Requirement already satisfied: markdown-it-py<3.0.0,>=2.1.0 in /usr/local/lib/python3.8/dist-packages (from rich>=10.11.0->streamlit>=0.63->streamlit_chat) (2.2.0)\n",
            "Requirement already satisfied: pygments<3.0.0,>=2.14.0 in /usr/local/lib/python3.8/dist-packages (from rich>=10.11.0->streamlit>=0.63->streamlit_chat) (2.14.0)\n",
            "Requirement already satisfied: decorator>=3.4.0 in /usr/local/lib/python3.8/dist-packages (from validators>=0.2->streamlit>=0.63->streamlit_chat) (4.4.2)\n",
            "Requirement already satisfied: smmap<6,>=3.0.1 in /usr/local/lib/python3.8/dist-packages (from gitdb<5,>=4.0.1->gitpython!=3.1.19->streamlit>=0.63->streamlit_chat) (5.0.0)\n",
            "Requirement already satisfied: MarkupSafe>=2.0 in /usr/local/lib/python3.8/dist-packages (from jinja2->altair>=3.2.0->streamlit>=0.63->streamlit_chat) (2.1.2)\n",
            "Requirement already satisfied: importlib-resources>=1.4.0 in /usr/local/lib/python3.8/dist-packages (from jsonschema>=3.0->altair>=3.2.0->streamlit>=0.63->streamlit_chat) (5.12.0)\n",
            "Requirement already satisfied: attrs>=17.4.0 in /usr/local/lib/python3.8/dist-packages (from jsonschema>=3.0->altair>=3.2.0->streamlit>=0.63->streamlit_chat) (22.2.0)\n",
            "Requirement already satisfied: pyrsistent!=0.17.0,!=0.17.1,!=0.17.2,>=0.14.0 in /usr/local/lib/python3.8/dist-packages (from jsonschema>=3.0->altair>=3.2.0->streamlit>=0.63->streamlit_chat) (0.19.3)\n",
            "Requirement already satisfied: mdurl~=0.1 in /usr/local/lib/python3.8/dist-packages (from markdown-it-py<3.0.0,>=2.1.0->rich>=10.11.0->streamlit>=0.63->streamlit_chat) (0.1.2)\n",
            "Looking in indexes: https://pypi.org/simple, https://us-python.pkg.dev/colab-wheels/public/simple/\n",
            "Requirement already satisfied: openai in /usr/local/lib/python3.8/dist-packages (0.27.0)\n",
            "Requirement already satisfied: aiohttp in /usr/local/lib/python3.8/dist-packages (from openai) (3.8.4)\n",
            "Requirement already satisfied: requests>=2.20 in /usr/local/lib/python3.8/dist-packages (from openai) (2.25.1)\n",
            "Requirement already satisfied: tqdm in /usr/local/lib/python3.8/dist-packages (from openai) (4.64.1)\n",
            "Requirement already satisfied: chardet<5,>=3.0.2 in /usr/local/lib/python3.8/dist-packages (from requests>=2.20->openai) (4.0.0)\n",
            "Requirement already satisfied: certifi>=2017.4.17 in /usr/local/lib/python3.8/dist-packages (from requests>=2.20->openai) (2022.12.7)\n",
            "Requirement already satisfied: idna<3,>=2.5 in /usr/local/lib/python3.8/dist-packages (from requests>=2.20->openai) (2.10)\n",
            "Requirement already satisfied: urllib3<1.27,>=1.21.1 in /usr/local/lib/python3.8/dist-packages (from requests>=2.20->openai) (1.26.14)\n",
            "Requirement already satisfied: attrs>=17.3.0 in /usr/local/lib/python3.8/dist-packages (from aiohttp->openai) (22.2.0)\n",
            "Requirement already satisfied: aiosignal>=1.1.2 in /usr/local/lib/python3.8/dist-packages (from aiohttp->openai) (1.3.1)\n",
            "Requirement already satisfied: multidict<7.0,>=4.5 in /usr/local/lib/python3.8/dist-packages (from aiohttp->openai) (6.0.4)\n",
            "Requirement already satisfied: yarl<2.0,>=1.0 in /usr/local/lib/python3.8/dist-packages (from aiohttp->openai) (1.8.2)\n",
            "Requirement already satisfied: charset-normalizer<4.0,>=2.0 in /usr/local/lib/python3.8/dist-packages (from aiohttp->openai) (3.0.1)\n",
            "Requirement already satisfied: frozenlist>=1.1.1 in /usr/local/lib/python3.8/dist-packages (from aiohttp->openai) (1.3.3)\n",
            "Requirement already satisfied: async-timeout<5.0,>=4.0.0a3 in /usr/local/lib/python3.8/dist-packages (from aiohttp->openai) (4.0.2)\n"
          ]
        }
      ]
    },
    {
      "cell_type": "markdown",
      "source": [
        "- After importing the required libraries, paste the API key stored in the openai.api_key. Then generate the response from GPT-3 generate_response by taking the user prompt as a parameter. Here is also specified the GPT-3 model 'text-davinci-003' , though other models can be used. It is also possible to set a limit to the prompt (max_tokens).\n",
        "\n",
        "- The temperature variable is very relevant, as it defines substantially the amount of creativity in the response ([though nobody likes to oversimplify creativity with this](https://gptaipower.com/gpt-3-temperature-settings/)), it can be set between 0 and 1. 0 produces stable outputs, while 1 is highly creative. More formally, the temperature determines how greedy the generative model is."
      ],
      "metadata": {
        "id": "YA2jaL4kzCUh"
      }
    },
    {
      "cell_type": "code",
      "source": [
        "import openai\n",
        "import streamlit as st\n",
        "from streamlit_chat import message\n",
        "import os \n",
        "from dotenv import load_dotenv\n",
        "load_dotenv('api_key.env')\n",
        "openai.api_key = os.environ.get('YOUR SECRET KEY')\n",
        "def generate_response(prompt):\n",
        "    completion=openai.Completion.create(\n",
        "        engine='text-davinci-003',\n",
        "        prompt=prompt,\n",
        "        max_tokens=1024,\n",
        "        n=1,\n",
        "        stop=None,\n",
        "        temperature=0.6,\n",
        "    )\n",
        "    message=completion.choices[0].text\n",
        "    return message"
      ],
      "metadata": {
        "id": "v-ejhD6hvSzD"
      },
      "execution_count": 2,
      "outputs": []
    },
    {
      "cell_type": "markdown",
      "source": [
        "- The rest of the script can simply be interacted with the user managed by Streamlit:"
      ],
      "metadata": {
        "id": "Gu63xKlrooa0"
      }
    },
    {
      "cell_type": "code",
      "source": [
        "st.title(\"ChatGPT-like Web App\")\n",
        "#storing the chat\n",
        "if 'generated' not in st.session_state:\n",
        "    st.session_state['generated'] = []\n",
        "if 'past' not in st.session_state:\n",
        "    st.session_state['past'] = []\n",
        "user_input=st.text_input(\"You:\",key='input')\n",
        "if user_input:\n",
        "    output=generate_response(user_input)\n",
        "    #store the output\n",
        "    st.session_state['past'].append(user_input)\n",
        "    st.session_state['generated'].append(output)\n",
        "if st.session_state['generated']:\n",
        "    for i in range(len(st.session_state['generated'])-1, -1, -1):\n",
        "        message(st.session_state[\"generated\"][i], key=str(i))\n",
        "        message(st.session_state['past'][i], is_user=True, key=str(i) + '_user')"
      ],
      "metadata": {
        "id": "UsGMOt8DrxLB"
      },
      "execution_count": null,
      "outputs": []
    }
  ]
}