{
  "nbformat": 4,
  "nbformat_minor": 0,
  "metadata": {
    "colab": {
      "provenance": [],
      "authorship_tag": "ABX9TyM0A/5TPc9zh5j2KFgcnYPH",
      "include_colab_link": true
    },
    "kernelspec": {
      "name": "python3",
      "display_name": "Python 3"
    },
    "language_info": {
      "name": "python"
    }
  },
  "cells": [
    {
      "cell_type": "markdown",
      "metadata": {
        "id": "view-in-github",
        "colab_type": "text"
      },
      "source": [
        "<a href=\"https://colab.research.google.com/github/AmirMotefaker/ChatGPT-Web-Application/blob/main/ChatGPT_Web_Application_using_Gradio_colab.ipynb\" target=\"_parent\"><img src=\"https://colab.research.google.com/assets/colab-badge.svg\" alt=\"Open In Colab\"/></a>"
      ]
    },
    {
      "cell_type": "markdown",
      "source": [
        "# Introduction\n",
        "\n",
        "- ChatGPT (Chat Generative Pre-trained Transformer) is an AI-powered chatbot created by OpenAI that enables users to have highly sophisticated, human-like conversations. The language model is capable of answering questions and assist in various tasks, including writing emails, essays, and code. Due to its dialogue design, ChatGPT is capable of answering follow-up questions, acknowledging errors, questioning incorrect assumptions, and declining inappropriate requests.\n",
        "\n",
        "- The ChatGPT model was fine-tuned from a model in the GPT-3.5 series, which completed its training in early 2022. The ChatGPT as well as the related GPT-3.5 models were trained on a high-performance Azure AI supercomputing infrastructure.\n",
        "\n",
        "- While ChatGPT possesses many strengths, being a generalized model, it may not always be the most effective solution for narrower, more specialized topics with limited training data available. Moreover, the dialog interface has not yet been made available by OpenAI for businesses to integrate.\n",
        "\n",
        "- The purpose of this article is to demonstrate the creation of a chatbot interface, similar to ChatGPT, by integrating OpenAI GPT-3 models with a custom-built Gradio interface.\n",
        "\n",
        "# GPT-3 \n",
        "\n",
        "- In 2020, the Generative Pre-trained Transformer 3 (GPT-3) was introduced as an autoregressive language model capable to generate high-quality text that resembles human writing. The GPT-3 is the third generation of the GPT language models made available by OpenAI.\n",
        "\n",
        "- By providing an initial prompt as input, GPT-3 has the ability to produce a continuation of the text that follows the style and structure of the input prompt. The model is capable of performing a range of tasks, including but not limited to, text classification, question answering, text generation, text summarization, named-entity recognition, and language translation.\n",
        "\n",
        "# Python implementation\n",
        "\n",
        "- To access OpenAI’s services, the first step is to acquire an API token. If you don’t have an account yet, you can register for a free trial by visiting their [signup page](https://platform.openai.com/signup). Once you have an account, go to the top right corner of the page and click “Manage Account”. From there, navigate to “API Keys” and create a new secret key.\n",
        "\n",
        "- Install the OpenAI Python library using pip: pip install openai, then create a new Jupyter notebook file and paste the following code snippet to a new cell.\n",
        "\n",
        "\n",
        "# Gradio\n",
        "\n",
        "- Gradio is an open-source Python library that is used to build machine learning and data science demos and web applications."
      ],
      "metadata": {
        "id": "6acktkKXAZ80"
      }
    }
  ]
}