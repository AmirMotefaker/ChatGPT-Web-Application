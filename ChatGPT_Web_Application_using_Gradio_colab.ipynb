{
  "nbformat": 4,
  "nbformat_minor": 0,
  "metadata": {
    "colab": {
      "provenance": [],
      "authorship_tag": "ABX9TyMf+8PQg2ntTxFj1GX8PjZs",
      "include_colab_link": true
    },
    "kernelspec": {
      "name": "python3",
      "display_name": "Python 3"
    },
    "language_info": {
      "name": "python"
    }
  },
  "cells": [
    {
      "cell_type": "markdown",
      "metadata": {
        "id": "view-in-github",
        "colab_type": "text"
      },
      "source": [
        "<a href=\"https://colab.research.google.com/github/AmirMotefaker/ChatGPT-Web-Application/blob/main/ChatGPT_Web_Application_using_Gradio_colab.ipynb\" target=\"_parent\"><img src=\"https://colab.research.google.com/assets/colab-badge.svg\" alt=\"Open In Colab\"/></a>"
      ]
    },
    {
      "cell_type": "markdown",
      "source": [
        "# Gradio\n",
        "\n",
        "- Gradio is an open-source Python library that is used to build machine learning and data science demos and web applications."
      ],
      "metadata": {
        "id": "_A8NSz1b_fVg"
      }
    },
    {
      "cell_type": "code",
      "source": [],
      "metadata": {
        "id": "zTuxul5M_dzH"
      },
      "execution_count": null,
      "outputs": []
    }
  ]
}