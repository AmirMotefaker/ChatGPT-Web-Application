{
 "cells": [
  {
   "cell_type": "markdown",
   "id": "ac2ab2ec",
   "metadata": {
    "_cell_guid": "b1076dfc-b9ad-4769-8c92-a6c4dae69d19",
    "_uuid": "8f2839f25d086af736a60e9eeb907d3b93b6e0e5",
    "papermill": {
     "duration": 0.002398,
     "end_time": "2023-02-28T16:15:34.199912",
     "exception": false,
     "start_time": "2023-02-28T16:15:34.197514",
     "status": "completed"
    },
    "tags": []
   },
   "source": [
    "# Introduction\n",
    "\n",
    "- The ChatGPT(Generative Pre-trained Transformer) from [OpenAI](https://openai.com/) is one of the most potent chatbots. You can ask anything, and it will provide accurate responses. Additionally, OpenAI offers an API for use in programming. To start, in this project we’ll look at how to use the Python API to build a ChatGPT web app.\n",
    "\n",
    "- ChatGPT, the general-purpose AI chatbot prototype that the internet is obsessed with right now, has taken the world by storm over the past few months. It’s quickly become the dominant example of the influence AI-generated content will have in the future, showing just how powerful these tools can be.\n",
    "\n",
    "# Do you need to download ChatGPT?\n",
    "\n",
    "- ChatGPT is [available via a webpage](https://openai.com/blog/chatgpt/), so no downloading is needed. OpenAI has yet to release an official app, despite the fact that app stores are full of fake versions. These should be installed and used with caution, as they are not official ChatGPT apps.\n",
    "\n",
    "- There are a couple of ways to install ChatGPT, though. First, you can navigate to the ChatGPT website and save it as a Windows app through Edge. Go to the site, click the ellipsis menu, and hover over Apps. Select Install this site as an app to load ChatGPT from your desktop.\n",
    "\n",
    "- You can also download the source code for ChatGPT from GitHub, but note this requires a bit of technical knowledge to get the app to work. For instance, [there’s a GPT-powered Discord bot](https://github.com/openai/gpt-discord-bot) available to install on your Discord server. Many users have leveraged the tech to build their own apps, such as the [MagicSlides extension for Google Sheets](https://www.digitaltrends.com/computing/chatgpt-tech-is-being-used-to-quickly-roll-out-google-slides/).\n",
    "\n",
    "# How to use ChatGPT\n",
    "\n",
    "- The ChatGPT webpage is simple and includes an area for the results to populate and a text box at the bottom of the page for users to type inquiries. We started with questions, however, OpenAI recommends inputting a statement for the best possible result.\n",
    "\n",
    "- For example, inputting “explain how the solar system was made” will give a more detailed result with more paragraphs than “how was the solar system made,” even though both inquiries will give fairly detailed results.\n",
    "\n",
    "- Several services have integrated ChatGPT into their apps, as well. [Snapchat recently announced My AI](https://www.theverge.com/2023/2/27/23614959/snapchat-my-ai-chatbot-chatgpt-openai-plus-subscription), which is an AI model build on ChatGPT that will be integrated directly into the Snapchat app, for example.\n",
    "\n",
    "# How to register an OpenAI account\n",
    "\n",
    "- Using the ChatGPT chatbot is fairly simple, as all you have to do is type in your text and receive the information. However, OpenAI does require an account before you can use any of its tools, so if you don’t have one, you will have to register. You have the option of choosing an easy login with a Google or Microsoft account.\n",
    "\n",
    "# 100 Best ChatGPT Prompts to Unleash AI’s Potential\n",
    "- In recent years, artificial intelligence (AI) has come to be seen as a powerful tool with the potential to transform many aspects of our lives. One area in which AI is beginning to have a significant impact is chatbots.\n",
    "\n",
    "- Chatbots are computer programs that simulate human conversation. They are commonly used to provide customer service or support, but they can also be used for other purposes such as marketing or even entertainment.\n",
    "\n",
    "- You can see 100 of the best chatgpt prompts in detail by referring to this [link](https://mpost.io/100-best-chatgpt-prompts-to-unleash-ais-potential/)."
   ]
  }
 ],
 "metadata": {
  "kernelspec": {
   "display_name": "Python 3",
   "language": "python",
   "name": "python3"
  },
  "language_info": {
   "codemirror_mode": {
    "name": "ipython",
    "version": 3
   },
   "file_extension": ".py",
   "mimetype": "text/x-python",
   "name": "python",
   "nbconvert_exporter": "python",
   "pygments_lexer": "ipython3",
   "version": "3.7.12"
  },
  "papermill": {
   "default_parameters": {},
   "duration": 10.443456,
   "end_time": "2023-02-28T16:15:34.826115",
   "environment_variables": {},
   "exception": null,
   "input_path": "__notebook__.ipynb",
   "output_path": "__notebook__.ipynb",
   "parameters": {},
   "start_time": "2023-02-28T16:15:24.382659",
   "version": "2.4.0"
  }
 },
 "nbformat": 4,
 "nbformat_minor": 5
}
