{
 "cells": [
  {
   "cell_type": "markdown",
   "id": "06c54607",
   "metadata": {
    "_cell_guid": "b1076dfc-b9ad-4769-8c92-a6c4dae69d19",
    "_uuid": "8f2839f25d086af736a60e9eeb907d3b93b6e0e5",
    "papermill": {
     "duration": 0.00233,
     "end_time": "2023-02-28T15:58:38.310375",
     "exception": false,
     "start_time": "2023-02-28T15:58:38.308045",
     "status": "completed"
    },
    "tags": []
   },
   "source": [
    "# Introduction\n",
    "\n",
    "- The ChatGPT(Generative Pre-trained Transformer) from [OpenAI](https://openai.com/) is one of the most potent chatbots. You can ask anything, and it will provide accurate responses. Additionally, OpenAI offers an API for use in programming. To start, in this project we’ll look at how to use the Python API to build a ChatGPT web app.\n",
    "\n",
    "- ChatGPT, the general-purpose AI chatbot prototype that the internet is obsessed with right now, has taken the world by storm over the past few months. It’s quickly become the dominant example of the influence AI-generated content will have in the future, showing just how powerful these tools can be.\n",
    "\n",
    "# Do you need to download ChatGPT?\n",
    "- ChatGPT is [available via a webpage](https://openai.com/blog/chatgpt/), so no downloading is needed. OpenAI has yet to release an official app, despite the fact that app stores are full of fake versions. These should be installed and used with caution, as they are not official ChatGPT apps.\n",
    "\n",
    "- There are a couple of ways to install ChatGPT, though. First, you can navigate to the ChatGPT website and save it as a Windows app through Edge. Go to the site, click the ellipsis menu, and hover over Apps. Select Install this site as an app to load ChatGPT from your desktop.\n",
    "\n",
    "- You can also download the source code for ChatGPT from GitHub, but note this requires a bit of technical knowledge to get the app to work. For instance, [there’s a GPT-powered Discord bot](https://github.com/openai/gpt-discord-bot) available to install on your Discord server. Many users have leveraged the tech to build their own apps, such as the [MagicSlides extension for Google Sheets](https://www.digitaltrends.com/computing/chatgpt-tech-is-being-used-to-quickly-roll-out-google-slides/)."
   ]
  }
 ],
 "metadata": {
  "kernelspec": {
   "display_name": "Python 3",
   "language": "python",
   "name": "python3"
  },
  "language_info": {
   "codemirror_mode": {
    "name": "ipython",
    "version": 3
   },
   "file_extension": ".py",
   "mimetype": "text/x-python",
   "name": "python",
   "nbconvert_exporter": "python",
   "pygments_lexer": "ipython3",
   "version": "3.7.12"
  },
  "papermill": {
   "default_parameters": {},
   "duration": 12.671679,
   "end_time": "2023-02-28T15:58:39.039842",
   "environment_variables": {},
   "exception": null,
   "input_path": "__notebook__.ipynb",
   "output_path": "__notebook__.ipynb",
   "parameters": {},
   "start_time": "2023-02-28T15:58:26.368163",
   "version": "2.4.0"
  }
 },
 "nbformat": 4,
 "nbformat_minor": 5
}
